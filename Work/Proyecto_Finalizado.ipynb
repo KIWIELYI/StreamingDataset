{
 "cells": [
  {
   "cell_type": "markdown",
   "metadata": {},
   "source": [
    "# **Analisis exploratorio**"
   ]
  },
  {
   "cell_type": "code",
   "execution_count": null,
   "metadata": {},
   "outputs": [],
   "source": [
    "import pandas as pd\n",
    "import numpy as np\n",
    "\n",
    "df = pd.read_csv('../Dataset_csv/streaming_viewership_data.csv')\n",
    "\n",
    "print(\"===== Informacion de datos =====\")\n",
    "df_Description = df.info()\n",
    "print(df_Description)\n",
    "\n",
    "print(\"===== Descripcion de datos =====\")\n",
    "df_Description = df.describe()\n",
    "print(df_Description)\n",
    "\n",
    "\n",
    "print(\"===== Conjunto de datos =====\")\n",
    "df_conjunto = df.shape\n",
    "print(df_conjunto)\n",
    "\n",
    "\n",
    "print(\"===== Columnas del dataframe =====\")\n",
    "df_columns = df.columns\n",
    "print(df_columns)\n",
    "\n",
    "\n",
    "print(\"===== Aniadir columnas de Nans =====\")\n",
    "df_nans = df.copy()\n",
    "df_nans['Columna_Nans'] = np.nan\n",
    "print(\"\\nDataset con la nueva columna añadida:\")\n",
    "print(df_nans)\n",
    "\n",
    "print(\"===== Calcular Nans =====\")\n",
    "df_nansSum = df_nans.isna().sum()\n",
    "print(df_nansSum)\n",
    "\n",
    "print(\"===== Borrar columnas con nans =====\")\n",
    "dataset_limpio = df.dropna(axis=1, how='all')\n",
    "print(\"\\nDataset después de eliminar columnas sin NaNs:\")\n",
    "print(dataset_limpio.head())\n",
    "\n",
    "print(\"===== Renombrar Columnas =====\")\n",
    "df_Rename = df\n",
    "nuevos_nombres = {\n",
    "    'User_ID': 'ID_usuario',\n",
    "    'Session_ID': 'ID_de_Sesion',\n",
    "    'Device_ID': 'ID_de_dispositivo',\n",
    "    'Video_ID': 'ID_Video',\n",
    "    'Duration_Watched (minutes)': 'Duracion(Minutos)',\n",
    "    'Genre': 'Categoria',\n",
    "    'Country': 'Pais',\n",
    "    'Age': 'Anio',\n",
    "    'Gender': 'Genero',\n",
    "    'Subscription_Status': 'Estatus_de_Suscripcion',\n",
    "    'Ratings': 'Puntuacion',\n",
    "    'Device_Type': 'Tipo_Dispositivo',\n",
    "    'Location': 'Ubicacion',\n",
    "    'Playback_Quality': 'Calidad_de_Video',\n",
    "    'Interaction_Events': 'Interaccion_de_Eventos'\n",
    "}\n",
    "\n",
    "df_Rename.rename(columns=nuevos_nombres, inplace=True)\n",
    "\n",
    "print(\"DataFrame con columnas renombradas:\")\n",
    "df_Rename\n",
    "\n",
    "\n",
    "\n"
   ]
  },
  {
   "cell_type": "markdown",
   "metadata": {},
   "source": [
    "# **Boxplots**"
   ]
  },
  {
   "cell_type": "code",
   "execution_count": null,
   "metadata": {},
   "outputs": [],
   "source": [
    "import seaborn as sns\n",
    "import matplotlib.pyplot as plt\n",
    "\n",
    "#BOXPLOTS\n",
    "##Genera 3 graficas por separado y cada grafica tiene 2 valores\n",
    "\n",
    "file_path = '../Dataset_csv/streaming_viewership_data.csv'\n",
    "df = pd.read_csv(file_path)\n",
    "\n",
    "# Crear la figura y subgráficas\n",
    "fig, axs = plt.subplots(1, 3, figsize=(15, 5))  # 1 fila, 3 columnas\n",
    "\n",
    "# Crear cada boxplot en su subgráfica correspondiente\n",
    "df['Interaction_Events'].plot(kind='box', ax=axs[0], title='Interaction_Events')\n",
    "df['Ratings'].plot(kind='box', ax=axs[1], title='Ratings')\n",
    "df['Duration_Watched (minutes)'].plot(kind='box', ax=axs[2], title='Duration_Watched (minutes)')\n",
    "\n",
    "# Mostrar la figura\n",
    "plt.tight_layout()  # Para ajustar el espacio entre subgráficas\n",
    "plt.show()"
   ]
  },
  {
   "cell_type": "markdown",
   "metadata": {},
   "source": [
    "## GRAFICA DE BARRAS"
   ]
  },
  {
   "cell_type": "code",
   "execution_count": null,
   "metadata": {},
   "outputs": [],
   "source": [
    "frecuencia = df['Genre'].value_counts()\n",
    "\n",
    "# Verificar el conteo\n",
    "print(frecuencia)\n",
    "\n",
    "# Crear la gráfica de barras\n",
    "frecuencia.plot(kind='bar')\n",
    "\n",
    "# Añadir título y etiquetas\n",
    "plt.title('Frecuencia de Categorías')\n",
    "plt.xlabel('Categorías')\n",
    "plt.ylabel('Frecuencia')\n",
    "\n",
    "# Mostrar la gráfica\n",
    "plt.show()\n"
   ]
  },
  {
   "cell_type": "markdown",
   "metadata": {},
   "source": [
    "## GRAFICA DE DISPERSION DE PUNTOS"
   ]
  },
  {
   "cell_type": "code",
   "execution_count": null,
   "metadata": {},
   "outputs": [],
   "source": [
    "plt.scatter(df['Ratings'], df['Genre'])\n",
    "\n",
    "# Añadir título y etiquetas\n",
    "plt.title('Gráfica de Dispersión')\n",
    "plt.xlabel('Rating')\n",
    "plt.ylabel('Categoria')\n",
    "\n",
    "# Mostrar la gráfica\n",
    "plt.show()"
   ]
  },
  {
   "cell_type": "markdown",
   "metadata": {},
   "source": [
    "# **DESVIACION ESTANDAR**\n",
    "Para esta se debe de poner el nombre de la fila entre [] para poder sacar la \"tabla\"\n",
    "esto se hace con todos los valores que deseamos sacar su desviacion estandar"
   ]
  },
  {
   "cell_type": "code",
   "execution_count": null,
   "metadata": {},
   "outputs": [],
   "source": [
    "desviacion_estandar = df['Interaction_Events'].std()\n",
    "print(\"Desviación estándar:\", desviacion_estandar)"
   ]
  },
  {
   "cell_type": "code",
   "execution_count": null,
   "metadata": {},
   "outputs": [],
   "source": [
    "desviacion_estandar = df['Ratings'].std()\n",
    "print(\"Desviación estándar:\", desviacion_estandar)"
   ]
  },
  {
   "cell_type": "code",
   "execution_count": null,
   "metadata": {},
   "outputs": [],
   "source": [
    "desviacion_estandar = df['Duration_Watched (minutes)'].std()\n",
    "print(\"Desviación estándar:\", desviacion_estandar)"
   ]
  },
  {
   "cell_type": "markdown",
   "metadata": {},
   "source": [
    "# **DICCIONARIO**"
   ]
  },
  {
   "cell_type": "code",
   "execution_count": null,
   "metadata": {},
   "outputs": [],
   "source": [
    "df=pd.read_csv('../Dataset_csv/streaming_viewership_data.csv')\n"
   ]
  },
  {
   "cell_type": "code",
   "execution_count": null,
   "metadata": {},
   "outputs": [],
   "source": [
    "df"
   ]
  },
  {
   "cell_type": "code",
   "execution_count": null,
   "metadata": {},
   "outputs": [],
   "source": [
    "df2=df.rename({'Index':'Indice','Highest Charting Position':'Posición más alta en los gráficos','Number of Times Charted':'Número de veces registradas','Week of Highest Charting':'Semana de gráficos más altos','Song Name':'Nombre de la cancion','Streams':'Corrientes','Artist':'Artista','Artist Followers':'Seguidores del Artista','Song ID':'ID Cancion','Genre':'Genero','Danceability':'Bailabilidad','Energy':'Energia','Loudness':'Volumen','Speechiness':'habla','Acousticness':'Acústica','Liveness':'vivacidad','Tempo':'Tempo','Duration (ms)':'Duracion (ms)','Valence':'Valencia','Chord':'Acorde'}, axis=1)"
   ]
  },
  {
   "cell_type": "code",
   "execution_count": null,
   "metadata": {},
   "outputs": [],
   "source": [
    "df2"
   ]
  },
  {
   "cell_type": "markdown",
   "metadata": {},
   "source": [
    "# Quitado de NanS\n",
    "\n",
    "En este apartado del Dataset\n"
   ]
  },
  {
   "cell_type": "code",
   "execution_count": null,
   "metadata": {},
   "outputs": [],
   "source": [
    "import numpy as np"
   ]
  },
  {
   "cell_type": "code",
   "execution_count": null,
   "metadata": {},
   "outputs": [],
   "source": [
    "df_limpiar = df2.copy()"
   ]
  },
  {
   "cell_type": "code",
   "execution_count": null,
   "metadata": {},
   "outputs": [],
   "source": [
    "df_limpiar"
   ]
  },
  {
   "cell_type": "code",
   "execution_count": null,
   "metadata": {},
   "outputs": [],
   "source": [
    "df_limpiar['...'] =np.nan"
   ]
  },
  {
   "cell_type": "code",
   "execution_count": null,
   "metadata": {},
   "outputs": [],
   "source": [
    "df_limpiar"
   ]
  },
  {
   "cell_type": "markdown",
   "metadata": {},
   "source": [
    "## Checamos que el Dataset no tenga NaNs"
   ]
  },
  {
   "cell_type": "code",
   "execution_count": null,
   "metadata": {},
   "outputs": [],
   "source": [
    "df_limpiar.isna().sum() "
   ]
  },
  {
   "cell_type": "markdown",
   "metadata": {},
   "source": [
    "# **Estadísticos de Orden**\n",
    "\n",
    "1. Objetivos:\n",
    "- Aprender a calcular el rango y los percentiles usando pandas\n",
    "\n",
    "---\n",
    "\n",
    "2. Desarrollo:\n",
    "\n",
    "**Rango**\n",
    "\n",
    "El rango es simplemente la diferencia entre el valor máximo de un conjunto y el valor mínimo de un conjunto. Por lo tanto, podemos obtenerla de esta manera:"
   ]
  },
  {
   "cell_type": "code",
   "execution_count": null,
   "metadata": {},
   "outputs": [],
   "source": [
    "df.head()\n"
   ]
  },
  {
   "cell_type": "code",
   "execution_count": null,
   "metadata": {},
   "outputs": [],
   "source": [
    "df['Interaction_Events'].max()"
   ]
  },
  {
   "cell_type": "code",
   "execution_count": null,
   "metadata": {},
   "outputs": [],
   "source": [
    "df ['Interaction_Events'].min()"
   ]
  },
  {
   "cell_type": "code",
   "execution_count": null,
   "metadata": {},
   "outputs": [],
   "source": [
    "rango= df['Interaction_Events'].max()-df['Interaction_Events'].min()"
   ]
  },
  {
   "cell_type": "code",
   "execution_count": null,
   "metadata": {},
   "outputs": [],
   "source": [
    "rango"
   ]
  },
  {
   "cell_type": "code",
   "execution_count": null,
   "metadata": {},
   "outputs": [],
   "source": [
    "diccionario_casting ={\n",
    "    'Interaction_Events':float\n",
    "}"
   ]
  },
  {
   "cell_type": "code",
   "execution_count": null,
   "metadata": {},
   "outputs": [],
   "source": [
    "df.astype(diccionario_casting)"
   ]
  },
  {
   "cell_type": "markdown",
   "metadata": {},
   "source": [
    "**Percentiles**\n",
    "\n",
    "El percentil P es un valor que indica que por lo menos P% de los valores en el conjunto tienen este valor o un valor menor; mientras que (100-P)% de los valores tienen este valor o un valor mayor. Por ejemplo, para obtener el percentil 80 primero ordenamos nuestro conjunto de manera ascendente y después elegimos un valor de manera que el 80% de los valores en nuestro conjunto sean iguales o menores a ese valor.\n",
    "\n",
    "En pandas, los percentiles están implementados como cuantiles, que es lo mismo que los percentiles pero en versión fracciones. Es decir, el percentil 80 es lo mismo que el cuantil 0.8."
   ]
  },
  {
   "cell_type": "code",
   "execution_count": null,
   "metadata": {},
   "outputs": [],
   "source": [
    "df['Interaction_Events'].median()"
   ]
  },
  {
   "cell_type": "code",
   "execution_count": null,
   "metadata": {},
   "outputs": [],
   "source": [
    "df['Interaction_Events'].quantile(0.5)"
   ]
  },
  {
   "cell_type": "code",
   "execution_count": null,
   "metadata": {},
   "outputs": [],
   "source": [
    "df['Interaction_Events'].quantile(0.8)"
   ]
  },
  {
   "cell_type": "code",
   "execution_count": null,
   "metadata": {},
   "outputs": [],
   "source": [
    "df['Interaction_Events'].quantile(0.25)"
   ]
  },
  {
   "cell_type": "code",
   "execution_count": null,
   "metadata": {},
   "outputs": [],
   "source": [
    "df['Interaction_Events'].quantile(0.75)"
   ]
  },
  {
   "cell_type": "markdown",
   "metadata": {},
   "source": [
    "## Realizando los estadisticos con numpy"
   ]
  },
  {
   "cell_type": "code",
   "execution_count": null,
   "metadata": {},
   "outputs": [],
   "source": [
    "import numpy as np"
   ]
  },
  {
   "cell_type": "code",
   "execution_count": null,
   "metadata": {},
   "outputs": [],
   "source": [
    "np.percentile(df['Interaction_Events'],80)"
   ]
  },
  {
   "cell_type": "code",
   "execution_count": null,
   "metadata": {},
   "outputs": [],
   "source": [
    "np.percentile(df['Interaction_Events'],25)"
   ]
  },
  {
   "cell_type": "code",
   "execution_count": null,
   "metadata": {},
   "outputs": [],
   "source": [
    "np.median(df['Interaction_Events'])"
   ]
  },
  {
   "cell_type": "markdown",
   "metadata": {},
   "source": [
    "\n",
    "Anuncio: \"En este caso, el 80% de los valores en…\"\n",
    "Ing. Jose Luis Herrera Gallardo, MTI\n",
    "Fecha de creación: 16:4916:49\n",
    "En este caso, el 80% de los valores en nuestro conjunto de datos tienen un valor menor o igual a 1 440 000.\n",
    "\n",
    "Como podrás ya haber imaginado, el valor mínimo equivale al percentil 0 y el valor máximo equivale al percentil 100, mientras que la mediana es exactamente igual que el percentil 50.\n",
    "\n",
    "Sacando los percentiles podemos darnos una idea más o menos precisa de cómo están distribuidos nuestros datos.\n",
    "\n",
    "Por ejemplo:"
   ]
  },
  {
   "cell_type": "code",
   "execution_count": null,
   "metadata": {},
   "outputs": [],
   "source": [
    "def imprimir_quantiles(datos):\n",
    "    valor_minimo = datos.min()\n",
    "    percentil_10 = datos.quantile(0.1)\n",
    "    percentil_25 = datos.quantile(0.25)\n",
    "    percentil_50 = datos.median()\n",
    "    percentil_75 = datos.quantile(0.75)\n",
    "    percentil_90 = datos.quantile(0.90)\n",
    "    valor_maximo = datos.max()\n",
    "    \n",
    "    return {\n",
    "        'valor Minimo': valor_minimo,\n",
    "        'percentil 10': percentil_10,\n",
    "        'percentil 25': percentil_25,\n",
    "        'percentil 50': percentil_50,\n",
    "        'percentil 75': percentil_75,\n",
    "        'percentil 90': percentil_90,\n",
    "        'valor maximo': valor_maximo,\n",
    "    }\n"
   ]
  },
  {
   "cell_type": "code",
   "execution_count": null,
   "metadata": {},
   "outputs": [],
   "source": [
    "resumen_estadistico = df['Interaction_Events'].describe(percentiles=[0.1, 0.25, 0.5, 0.75, 0.9])\n",
    "print(resumen_estadistico)"
   ]
  },
  {
   "cell_type": "markdown",
   "metadata": {},
   "source": [
    "Viendo estos números podemos inferir varias cosas:\n",
    "\n",
    "1. Casi todos nuestros datos están concentrados en valores menores a 2 000 000.\n",
    "1. Eso quiere decir que tenemos algunos valores atípicos demasiado grandes (si los comparamos con el resto de los valores)\n",
    "1. La mediana nos estaba dando un número más cercano al verdadero \"valor típico\" que el promedio.\n",
    "1. El promedio tenía un sesgo hacia arriba debido a los valores extremadamente grandes.\n",
    "1. El rango entre el valor máximo y mínimo no nos da una medida representativa de qué valores pueden tomar nuestros datos."
   ]
  },
  {
   "cell_type": "markdown",
   "metadata": {},
   "source": [
    "**Rango intercuartílico**\n",
    "\n",
    "Otra medida muy común es lo que llamamos el rango intercuartílico, que es la diferencia entre el percentil 75 y el percentil 25. Este número nos da una idea del rango que tienen los valores más cercanos al valor típico.\n",
    "\n",
    "En nuestro ejemplo, nuestro rango intercuartílico sería:"
   ]
  },
  {
   "cell_type": "code",
   "execution_count": null,
   "metadata": {},
   "outputs": [],
   "source": [
    "#rango intercuatlico\n",
    "df['Interaction_Events'].quantile(0.75)-df['Interaction_Events'].quantile(0.25)"
   ]
  },
  {
   "cell_type": "code",
   "execution_count": null,
   "metadata": {},
   "outputs": [],
   "source": [
    "#Rango\n",
    "df['Interaction_Events'].max()- df['Interaction_Events'].min()"
   ]
  },
  {
   "cell_type": "markdown",
   "metadata": {},
   "source": [
    "# **ESTIMADOS LOCALIZACION**\n",
    "**La media o promedio**\n",
    "\n",
    "La media o promedio se obtiene sumando todos los valores de un conjunto de datos numéricos y dividiéndolos entre la cantidad de valores que tenemos en nuestro conjunto.\n",
    "\n",
    "Vamos a analizar la columna price. Veamos cuál es el \"valor típico\" obtenido usando la media (promedio):"
   ]
  },
  {
   "cell_type": "code",
   "execution_count": null,
   "metadata": {},
   "outputs": [],
   "source": [
    "df['Device_ID'].mean()"
   ]
  },
  {
   "cell_type": "code",
   "execution_count": null,
   "metadata": {},
   "outputs": [],
   "source": [
    "df['Video_ID'].mean()"
   ]
  },
  {
   "cell_type": "code",
   "execution_count": null,
   "metadata": {},
   "outputs": [],
   "source": [
    "df.head(20)"
   ]
  },
  {
   "cell_type": "code",
   "execution_count": null,
   "metadata": {},
   "outputs": [],
   "source": [
    "df.dtypes"
   ]
  },
  {
   "cell_type": "markdown",
   "metadata": {},
   "source": [
    "**La mediana**\n",
    "\n",
    "La mediana se obtiene de la siguiente manera:\n",
    "\n",
    "1. Primero ordenamos de manera ascendente nuestros datos\n",
    "2. Luego tomamos el valor que está justo en medio de nuestra secuencia ordenada de valores.\n",
    "3. Si nuestro conjunto tiene un número par de valores y por lo tanto no tiene un valor justo a la mitad de la secuencia, se toma el promedio de los dos valores que se encuentran a la mitad de la secuencia.\n",
    "\n",
    "Ahora veamos el \"valor típico\" obtenido usando la mediana:"
   ]
  },
  {
   "cell_type": "code",
   "execution_count": null,
   "metadata": {},
   "outputs": [],
   "source": [
    "df['Device_ID'].median()"
   ]
  },
  {
   "cell_type": "code",
   "execution_count": null,
   "metadata": {},
   "outputs": [],
   "source": [
    "df['Interaction_Events'].median()"
   ]
  },
  {
   "cell_type": "markdown",
   "metadata": {},
   "source": [
    "# **Media Truncada**\n",
    "\n",
    "1. Objetivos:\n",
    "\n",
    "Aprender a calcular la media truncada usando la librería scipy.\n",
    "\n",
    "2. Desarrollo:\n",
    "\n",
    "La media truncada es una medida de tendencia central más resistente a valores atípicos en comparación con el promedio o la mediana. Para calcularla, seguimos estos pasos:\n",
    "\n",
    "1. Primero ordenamos nuestro conjunto de manera ascendente.\n",
    "2. Después decidimos qué porcentaje de nuestros datos vamos a truncar. Los valores más comunes suelen variar entre 5% y 25%.\n",
    "3. Divide el porcentaje acordado entre dos y elimina esa fracción de tus\n",
    "datos del inicio y del final de tu secuencia. Por ejemplo, si decides truncar un 5%,\n",
    "elimina el 2.5% de tus datos del inicio de tu secuencia y el otro 2.5% del final de tu secuencia.\n",
    "4. Obtén el promedio de los valores restantes.\n",
    "\n",
    "No es necesario realizar este procedimiento manualmente, ya que la librería scipy proporciona una función para calcular la media truncada de manera sencilla."
   ]
  },
  {
   "cell_type": "code",
   "execution_count": null,
   "metadata": {},
   "outputs": [],
   "source": [
    "from scipy.stats import trim_mean"
   ]
  },
  {
   "cell_type": "code",
   "execution_count": null,
   "metadata": {},
   "outputs": [],
   "source": [
    "df['Age'].median()"
   ]
  },
  {
   "cell_type": "code",
   "execution_count": null,
   "metadata": {},
   "outputs": [],
   "source": [
    "df['Age'].mean()"
   ]
  },
  {
   "cell_type": "code",
   "execution_count": null,
   "metadata": {},
   "outputs": [],
   "source": [
    "porcion_truncar =0.1\n",
    "trim_mean(df['Age'],porcion_truncar)"
   ]
  },
  {
   "cell_type": "code",
   "execution_count": null,
   "metadata": {},
   "outputs": [],
   "source": [
    "porcion_truncar =0.1\n",
    "media_truncada_Edad =trim_mean(df['Age'],porcion_truncar)"
   ]
  },
  {
   "cell_type": "code",
   "execution_count": null,
   "metadata": {},
   "outputs": [],
   "source": [
    "media_truncada_Edad"
   ]
  },
  {
   "cell_type": "code",
   "execution_count": null,
   "metadata": {},
   "outputs": [],
   "source": [
    "df = pd.DataFrame(\n",
    "    {\"Price 1\": [7, 1, 5, 6, 3, 10, 5, 8], \"Day\": [1, 2, 3, 4, 5, 6, 7, 8]}\n",
    ")\n",
    "\n",
    "s1 = sns.lineplot(x=\"Day\", y=\"Price 1\", data=df, color=\"red\")"
   ]
  },
  {
   "cell_type": "code",
   "execution_count": null,
   "metadata": {},
   "outputs": [],
   "source": [
    "df = pd.DataFrame(\n",
    "    {\n",
    "        \"Precio\": [7, 1, 5, 6, 3, 10, 5, 8],\n",
    "        \"Canciones\": [\"C1\", \"C2\", \"C1\", \"C2\", \"C1\", \"C2\", \"C1\", \"C2\"],\n",
    "        \"Artist\": [1, 1, 2, 2, 3, 3, 4, 4],\n",
    "    }\n",
    ")\n",
    "\n",
    "s = sns.lineplot(x=\"Artist\", y=\"Precio\", data=df, hue=\"Canciones\")"
   ]
  },
  {
   "cell_type": "code",
   "execution_count": null,
   "metadata": {},
   "outputs": [],
   "source": [
    "df = pd.DataFrame(\n",
    "    {\n",
    "        \"Price 1\": [7, 1, 5, 6, 3, 10, 5, 8],\n",
    "        \"Price 2\": [1, 2, 8, 4, 3, 9, 5, 2],\n",
    "        \"Day\": [1, 2, 3, 4, 5, 6, 7, 8],\n",
    "    }\n",
    ")\n",
    "\n",
    "s1 = sns.lineplot(x=\"Day\", y=\"Price 1\", data=df, color=\"red\")\n",
    "\n",
    "s2 = sns.lineplot(x=\"Day\", y=\"Price 2\", data=df, color=\"blue\")\n",
    "\n",
    "plt.legend(labels=[\"Price1\", \"Price2\"])"
   ]
  },
  {
   "cell_type": "code",
   "execution_count": null,
   "metadata": {},
   "outputs": [],
   "source": [
    "data = [\"A\", \"A\", \"B\",\n",
    "        \"B\", \"B\", \"C\"]\n",
    "\n",
    "# Count plot\n",
    "sns.countplot(x = data)"
   ]
  },
  {
   "cell_type": "code",
   "execution_count": null,
   "metadata": {},
   "outputs": [],
   "source": [
    "data = [\"A\", \"A\", \"B\", \"A\",\n",
    "        \"B\", \"B\", \"C\", \"C\"]\n",
    "group = [\"G1\", \"G1\", \"G2\", \"G2\",\n",
    "         \"G1\", \"G2\", \"G1\", \"G2\"]\n",
    "\n",
    "# Count plot\n",
    "sns.countplot(x = data, hue = group)"
   ]
  },
  {
   "cell_type": "code",
   "execution_count": null,
   "metadata": {},
   "outputs": [],
   "source": [
    "data = [\"A\", \"A\", \"B\",\n",
    "        \"B\", \"B\", \"C\"]\n",
    "\n",
    "# Count plot\n",
    "sns.countplot(x = data, saturation = 1)"
   ]
  },
  {
   "cell_type": "code",
   "execution_count": null,
   "metadata": {},
   "outputs": [],
   "source": [
    "data = [\"A\", \"A\", \"B\",\n",
    "        \"B\", \"B\", \"C\"]\n",
    "\n",
    "# Count plot\n",
    "sns.countplot(x = data, palette = \"Set1\")"
   ]
  },
  {
   "cell_type": "code",
   "execution_count": null,
   "metadata": {},
   "outputs": [],
   "source": [
    "data = [\"A\", \"A\", \"B\",\n",
    "        \"B\", \"B\", \"C\"]\n",
    "\n",
    "# Count plot\n",
    "sns.countplot(x = data,\n",
    "              color = \"lightblue\")"
   ]
  },
  {
   "cell_type": "code",
   "execution_count": null,
   "metadata": {},
   "outputs": [],
   "source": [
    "data = [\"A\", \"A\", \"B\",\n",
    "        \"B\", \"B\", \"C\"]\n",
    "\n",
    "# Count plot\n",
    "sns.countplot(x = data,\n",
    "              edgecolor = \"yellow\")"
   ]
  },
  {
   "cell_type": "code",
   "execution_count": null,
   "metadata": {},
   "outputs": [],
   "source": [
    "import plotly.io as pio\n",
    "pio.renderers.default = 'notebook'"
   ]
  },
  {
   "cell_type": "markdown",
   "metadata": {},
   "source": [
    "# **SEABORN**"
   ]
  },
  {
   "cell_type": "code",
   "execution_count": null,
   "metadata": {},
   "outputs": [],
   "source": [
    "import pandas as pd\n",
    "import seaborn as sns\n",
    "import matplotlib.pyplot as plt"
   ]
  },
  {
   "cell_type": "code",
   "execution_count": null,
   "metadata": {},
   "outputs": [],
   "source": [
    "df= pd.read_csv('./Datasets/melbourne_housing-clean.csv' , index_col=0)"
   ]
  },
  {
   "cell_type": "code",
   "execution_count": null,
   "metadata": {},
   "outputs": [
    {
     "data": {
      "image/png": "[encoded data removed]",
      "text/plain": [
       "<Figure size 640x480 with 1 Axes>"
      ]
     },
     "metadata": {},
     "output_type": "display_data"
    }
   ],
   "source": [
    "df = pd.DataFrame(\n",
    "    {\"Price 1\": [7, 1, 5, 6, 3, 10, 5, 8], \"Day\": [1, 2, 3, 4, 5, 6, 7, 8]}\n",
    ")\n",
    "\n",
    "s1 = sns.lineplot(x=\"Day\", y=\"Price 1\", data=df, color=\"red\")"
   ]
  },
  {
   "cell_type": "code",
   "execution_count": null,
   "metadata": {},
   "outputs": [
    {
     "data": {
      "image/png": "[encoded data removed]",
      "text/plain": [
       "<Figure size 640x480 with 1 Axes>"
      ]
     },
     "metadata": {},
     "output_type": "display_data"
    }
   ],
   "source": [
    "df = pd.DataFrame(\n",
    "    {\n",
    "        \"Precio\": [7, 1, 5, 6, 3, 10, 5, 8],\n",
    "        \"Canciones\": [\"C1\", \"C2\", \"C1\", \"C2\", \"C1\", \"C2\", \"C1\", \"C2\"],\n",
    "        \"Artist\": [1, 1, 2, 2, 3, 3, 4, 4],\n",
    "    }\n",
    ")\n",
    "\n",
    "s = sns.lineplot(x=\"Artist\", y=\"Precio\", data=df, hue=\"Canciones\")"
   ]
  },
  {
   "cell_type": "code",
   "execution_count": null,
   "metadata": {},
   "outputs": [
    {
     "data": {
      "text/plain": [
       "<matplotlib.legend.Legend at 0x78d4acd34070>"
      ]
     },
     "metadata": {},
     "output_type": "display_data"
    },
    {
     "data": {
      "image/png": "[encoded data removed]",
      "text/plain": [
       "<Figure size 640x480 with 1 Axes>"
      ]
     },
     "metadata": {},
     "output_type": "display_data"
    }
   ],
   "source": [
    "df = pd.DataFrame(\n",
    "    {\n",
    "        \"Price 1\": [7, 1, 5, 6, 3, 10, 5, 8],\n",
    "        \"Price 2\": [1, 2, 8, 4, 3, 9, 5, 2],\n",
    "        \"Day\": [1, 2, 3, 4, 5, 6, 7, 8],\n",
    "    }\n",
    ")\n",
    "\n",
    "s1 = sns.lineplot(x=\"Day\", y=\"Price 1\", data=df, color=\"red\")\n",
    "\n",
    "s2 = sns.lineplot(x=\"Day\", y=\"Price 2\", data=df, color=\"blue\")\n",
    "\n",
    "plt.legend(labels=[\"Price1\", \"Price2\"])"
   ]
  },
  {
   "cell_type": "code",
   "execution_count": null,
   "metadata": {},
   "outputs": [
    {
     "data": {
      "text/plain": [
       "<Axes: ylabel='count'>"
      ]
     },
     "metadata": {},
     "output_type": "display_data"
    },
    {
     "data": {
      "image/png": "[encoded data removed]",
      "text/plain": [
       "<Figure size 640x480 with 1 Axes>"
      ]
     },
     "metadata": {},
     "output_type": "display_data"
    }
   ],
   "source": [
    "data = [\"A\", \"A\", \"B\",\n",
    "        \"B\", \"B\", \"C\"]\n",
    "\n",
    "# Count plot\n",
    "sns.countplot(x = data)"
   ]
  },
  {
   "cell_type": "code",
   "execution_count": null,
   "metadata": {},
   "outputs": [
    {
     "data": {
      "text/plain": [
       "<Axes: ylabel='count'>"
      ]
     },
     "metadata": {},
     "output_type": "display_data"
    },
    {
     "data": {
      "image/png": "[encoded data removed]",
      "text/plain": [
       "<Figure size 640x480 with 1 Axes>"
      ]
     },
     "metadata": {},
     "output_type": "display_data"
    }
   ],
   "source": [
    "data = [\"A\", \"A\", \"B\", \"A\",\n",
    "        \"B\", \"B\", \"C\", \"C\"]\n",
    "group = [\"G1\", \"G1\", \"G2\", \"G2\",\n",
    "         \"G1\", \"G2\", \"G1\", \"G2\"]\n",
    "\n",
    "# Count plot\n",
    "sns.countplot(x = data, hue = group)"
   ]
  },
  {
   "cell_type": "code",
   "execution_count": null,
   "metadata": {},
   "outputs": [
    {
     "data": {
      "text/plain": [
       "<Axes: ylabel='count'>"
      ]
     },
     "metadata": {},
     "output_type": "display_data"
    },
    {
     "data": {
      "image/png": "[encoded data removed]",
      "text/plain": [
       "<Figure size 640x480 with 1 Axes>"
      ]
     },
     "metadata": {},
     "output_type": "display_data"
    }
   ],
   "source": [
    "data = [\"A\", \"A\", \"B\",\n",
    "        \"B\", \"B\", \"C\"]\n",
    "\n",
    "# Count plot\n",
    "sns.countplot(x = data, saturation = 1)"
   ]
  },
  {
   "cell_type": "code",
   "execution_count": null,
   "metadata": {},
   "outputs": [
    {
     "name": "stderr",
     "output_type": "stream",
     "text": [
      "<ipython-input-10-9947713dc321>:5: FutureWarning: \n",
      "\n",
      "Passing `palette` without assigning `hue` is deprecated and will be removed in v0.14.0. Assign the `x` variable to `hue` and set `legend=False` for the same effect.\n",
      "\n",
      "  sns.countplot(x = data, palette = \"Set1\")\n"
     ]
    },
    {
     "data": {
      "text/plain": [
       "<Axes: ylabel='count'>"
      ]
     },
     "metadata": {},
     "output_type": "display_data"
    },
    {
     "data": {
      "image/png": "[encoded data removed]",
      "text/plain": [
       "<Figure size 640x480 with 1 Axes>"
      ]
     },
     "metadata": {},
     "output_type": "display_data"
    }
   ],
   "source": [
    "data = [\"A\", \"A\", \"B\",\n",
    "        \"B\", \"B\", \"C\"]\n",
    "\n",
    "# Count plot\n",
    "sns.countplot(x = data, palette = \"Set1\")"
   ]
  },
  {
   "cell_type": "code",
   "execution_count": null,
   "metadata": {},
   "outputs": [
    {
     "data": {
      "text/plain": [
       "<Axes: ylabel='count'>"
      ]
     },
     "metadata": {},
     "output_type": "display_data"
    },
    {
     "data": {
      "image/png": "[encoded data removed]",
      "text/plain": [
       "<Figure size 640x480 with 1 Axes>"
      ]
     },
     "metadata": {},
     "output_type": "display_data"
    }
   ],
   "source": [
    "data = [\"A\", \"A\", \"B\",\n",
    "        \"B\", \"B\", \"C\"]\n",
    "\n",
    "# Count plot\n",
    "sns.countplot(x = data,\n",
    "              color = \"lightblue\")"
   ]
  },
  {
   "cell_type": "code",
   "execution_count": null,
   "metadata": {},
   "outputs": [
    {
     "data": {
      "text/plain": [
       "<Axes: ylabel='count'>"
      ]
     },
     "metadata": {},
     "output_type": "display_data"
    },
    {
     "data": {
      "image/png": "[encoded data removed]",
      "text/plain": [
       "<Figure size 640x480 with 1 Axes>"
      ]
     },
     "metadata": {},
     "output_type": "display_data"
    }
   ],
   "source": [
    "data = [\"A\", \"A\", \"B\",\n",
    "        \"B\", \"B\", \"C\"]\n",
    "\n",
    "# Count plot\n",
    "sns.countplot(x = data,\n",
    "              edgecolor = \"yellow\")"
   ]
  },
  {
   "cell_type": "code",
   "execution_count": null,
   "metadata": {},
   "outputs": [],
   "source": [
    "import plotly.io as pio\n",
    "pio.renderers.default = 'notebook'"
   ]
  }
 ],
 "metadata": {
  "kernelspec": {
   "display_name": "Python 3",
   "language": "python",
   "name": "python3"
  },
  "language_info": {
   "codemirror_mode": {
    "name": "ipython",
    "version": 3
   },
   "file_extension": ".py",
   "mimetype": "text/x-python",
   "name": "python",
   "nbconvert_exporter": "python",
   "pygments_lexer": "ipython3",
   "version": "3.12.3"
  }
 },
 "nbformat": 4,
 "nbformat_minor": 2
}
